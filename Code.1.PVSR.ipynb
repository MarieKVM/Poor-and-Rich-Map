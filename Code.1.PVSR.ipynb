{
 "cells": [
  {
   "cell_type": "code",
   "execution_count": null,
   "metadata": {},
   "outputs": [],
   "source": [
    "import pandas as pd\n",
    "import numpy as np\n",
    "data = pd.read_csv('Billionaire.Data.csv')\n",
    "data = pd.read_csv('Billionaire.Data.csv')"
   ]
  }
 ],
 "metadata": {
  "kernelspec": {
   "display_name": "Python 3.9.7 ('base')",
   "language": "python",
   "name": "python3"
  },
  "language_info": {
   "name": "python",
   "version": "3.9.7"
  },
  "orig_nbformat": 4,
  "vscode": {
   "interpreter": {
    "hash": "369381407145716043b5f4cf36f5f59dee4a29a3616c937707bc6f5a600497b6"
   }
  }
 },
 "nbformat": 4,
 "nbformat_minor": 2
}
