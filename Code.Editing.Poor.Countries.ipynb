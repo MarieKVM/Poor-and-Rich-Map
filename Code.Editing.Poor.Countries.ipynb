{
 "cells": [
  {
   "cell_type": "code",
   "execution_count": 1,
   "metadata": {},
   "outputs": [],
   "source": [
    "import pandas as pd\n",
    "import numpy as np\n",
    "data = pd.read_csv('poorest.countries.csv')"
   ]
  },
  {
   "cell_type": "code",
   "execution_count": 8,
   "metadata": {},
   "outputs": [],
   "source": [
    "#drop['usa_state_code','usa_state_latitude','usa_state_longitude','usa_state']\n",
    "#columns_keep = ['country_code','latitude','longitude','country']\n",
    "#df.drop(labels = columns_drop, axis = \"columns_keep\")\n",
    "\n",
    "columns_keep = ['usa_state_code','usa_state_latitude','usa_state_longitude','usa_state']\n",
    "data.drop(labels = columns_keep, axis = \"columns\",inplace = True)\n",
    "\n",
    "\n",
    "\n",
    "\n",
    "\n",
    "\n",
    "\n",
    "\n",
    "\n",
    "\n"
   ]
  },
  {
   "cell_type": "code",
   "execution_count": null,
   "metadata": {},
   "outputs": [],
   "source": []
  }
 ],
 "metadata": {
  "kernelspec": {
   "display_name": "Python 3.9.7 ('base')",
   "language": "python",
   "name": "python3"
  },
  "language_info": {
   "codemirror_mode": {
    "name": "ipython",
    "version": 3
   },
   "file_extension": ".py",
   "mimetype": "text/x-python",
   "name": "python",
   "nbconvert_exporter": "python",
   "pygments_lexer": "ipython3",
   "version": "3.9.7"
  },
  "orig_nbformat": 4,
  "vscode": {
   "interpreter": {
    "hash": "369381407145716043b5f4cf36f5f59dee4a29a3616c937707bc6f5a600497b6"
   }
  }
 },
 "nbformat": 4,
 "nbformat_minor": 2
}
